{
 "cells": [
  {
   "cell_type": "code",
   "execution_count": null,
   "metadata": {},
   "outputs": [],
   "source": []
  }
 ],
 "metadata": {
  "kernelspec": {
   "display_name": "Python 3.8.13 ('snapshot_genotyping')",
   "language": "python",
   "name": "python3"
  },
  "language_info": {
   "name": "python",
   "version": "3.8.13"
  },
  "orig_nbformat": 4,
  "vscode": {
   "interpreter": {
    "hash": "b4d3fe072432f0816511cf4002824cbf67c2cdbd34bdb0afb8cba97d824c69ea"
   }
  }
 },
 "nbformat": 4,
 "nbformat_minor": 2
}
