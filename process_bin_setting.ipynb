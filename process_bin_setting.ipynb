{
 "cells": [
  {
   "cell_type": "code",
   "execution_count": 36,
   "metadata": {},
   "outputs": [],
   "source": [
    "\n",
    "import re\n",
    "import pandas as pd\n",
    "from Source import data_chanel_map\n",
    "from Source import forward_color\n",
    "from Source import reverse_color\n",
    "from Source import reverse_map\n",
    "\n",
    "class BinFile:\n",
    "    def __init__(self, file) -> None:\n",
    "        self.data = self.read_file(file)\n",
    "\n",
    "    def read_file(self, file):\n",
    "        with open(file, 'r') as f:\n",
    "            return [line.strip('\\n') for line in f.readlines()]\n",
    "\n",
    "    def parser(self):\n",
    "        lines = []\n",
    "        for line in self.data:\n",
    "            # print(line)\n",
    "            if 'Version' in line:\n",
    "                version = line.split('\\t')[1]\n",
    "            elif 'Chemistry' in line:\n",
    "                kit_name = line.split('\\t')[1]\n",
    "            elif 'Panel Name' in line:\n",
    "                panel_name = line.split('\\t')[1]\n",
    "            elif 'Marker Name' in line:\n",
    "                marker_name = line.split('\\t')[1]\n",
    "            elif 'BinSet' in line:\n",
    "                continue\n",
    "            else:\n",
    "                # print(panel_name)\n",
    "                line_base = line.split('\\t')\n",
    "                line_base.insert(0, marker_name)\n",
    "                line_base.insert(0, panel_name)\n",
    "                line_base.insert(0, kit_name)\n",
    "                line_base.insert(0, version)\n",
    "                lines.append(line_base)\n",
    "        df = pd.DataFrame(lines, columns=['version', 'package', 'panel', 'marker', 'base', 'min_bin', 'max_bin', 'color'])\n",
    "        df = df[pd.notnull(df.color)]\n",
    "        df['min_bin'] = round(df['min_bin'].astype('float'),2)\n",
    "        df['max_bin'] = round(df['max_bin'].astype('float'),2)\n",
    "        df['color'] = df['color'].apply(lambda x: x.lower())\n",
    "        # conver yellow to black\n",
    "        df['color'] = df['color'].apply(lambda x: 'black' if x  == 'yellow' else x)\n",
    "        \n",
    "        # update direction\n",
    "        df['direction'] = df.apply(lambda row: self.update_direction(row['base'], row['color']), axis=1)\n",
    "\n",
    "\n",
    "        # process duplicate\n",
    "        # get max range file of bin setting if base duplicated\n",
    "        df['binrange'] = df.max_bin - df.min_bin\n",
    "        # df = (df.groupby(['version', 'package', 'panel', 'marker', 'base'], as_index=False)).sort_values('binrange', ascending=False)\n",
    "        return df\n",
    "    \n",
    "    def update_direction(self, base, color):\n",
    "        return 'forward' if forward_color.get(base) == color else 'reverse'\n"
   ]
  },
  {
   "cell_type": "code",
   "execution_count": 37,
   "metadata": {},
   "outputs": [],
   "source": [
    "bin_file = './raw_data/panels/[2021.08 └┌╖ß] PGx-NP_PGx-NP_bins.txt'\n",
    "bin = BinFile(bin_file)\n",
    "data = bin.parser()"
   ]
  },
  {
   "cell_type": "code",
   "execution_count": 47,
   "metadata": {},
   "outputs": [],
   "source": [
    "t = data.sort_values('binrange', ascending=False).groupby(['version', 'panel', 'marker', 'base', 'color'], as_index=False).first()\n",
    "# t = "
   ]
  },
  {
   "cell_type": "code",
   "execution_count": 48,
   "metadata": {},
   "outputs": [],
   "source": [
    "data_c = t.groupby(['panel', 'marker', 'base'], as_index=False).size()"
   ]
  },
  {
   "cell_type": "code",
   "execution_count": 49,
   "metadata": {},
   "outputs": [],
   "source": [
    "bin_file = './raw_data/panels/[2021.08 └┌╖ß] PGx-Premium_PGx-Premium_bins.txt'\n",
    "bin = BinFile(bin_file)\n",
    "data = bin.parser()"
   ]
  },
  {
   "cell_type": "markdown",
   "metadata": {},
   "source": [
    "## update from laptop"
   ]
  },
  {
   "cell_type": "code",
   "execution_count": 86,
   "metadata": {},
   "outputs": [],
   "source": [
    "# data.to_excel('Bin_setting_table.xlsx', index=False)"
   ]
  },
  {
   "cell_type": "code",
   "execution_count": null,
   "metadata": {},
   "outputs": [],
   "source": [
    "    # def pattern_location(self, data, pattern = 'Panel Name'):\n",
    "    #     return [i for i,line in enumerate(data) if pattern in line]\n",
    "\n",
    "    # def name_extract(self, line):\n",
    "    #     return line.split('\\t')[1]\n",
    "\n",
    "    # def line_extract(self, data, start, stop):\n",
    "    #     return data[start+1:stop]\n",
    "\n",
    "    # def range_generate(self, lst, n=2):\n",
    "    #     return [lst[i:i+n] for i in range(len(lst)-n+1)]\n",
    "\n",
    "    # def marker_frame(self, data, start, stop):\n",
    "    #     marker_name = self.name_extract(data[0])\n",
    "    #     print(data[0])\n",
    "    #     markers = [m.split('\\t') for m in data[1:]]\n",
    "\n",
    "    #     df = pd.DataFrame(markers, columns=['base', 'min_bin', 'max_bin', 'color'])\n",
    "    #     df['marker'] = marker_name\n",
    "\n",
    "    #     return df\n",
    "\n",
    "    # def panel_frame(self, start, stop):\n",
    "\n",
    "    #     panel_df = pd.DataFrame()\n",
    "    #     panel_data = self.line_extract(self.data, start, stop)\n",
    "    #     marker_loc = self.pattern_location(panel_data, \"Marker Name\")\n",
    "    #     marker_loc.append(len(panel_data))\n",
    "    #     # print(marker_loc)\n",
    "\n",
    "    #     for m_start, m_stop in self.range_generate(marker_loc):\n",
    "    #         marker_data = self.line_extract(panel_data, m_start, m_stop)\n",
    "    #         # print(marker_data)\n",
    "    #         # print(m_start, m_stop, len(marker_data))\n",
    "    #         marker_df = self.marker_frame(marker_data, m_start, m_stop)\n",
    "    #         panel_df = pd.concat([panel_df, marker_df])\n",
    "        \n",
    "    #     return panel_df\n",
    "\n",
    "\n"
   ]
  }
 ],
 "metadata": {
  "kernelspec": {
   "display_name": "Python 3.8.13 ('snapshot_genotyping')",
   "language": "python",
   "name": "python3"
  },
  "language_info": {
   "codemirror_mode": {
    "name": "ipython",
    "version": 3
   },
   "file_extension": ".py",
   "mimetype": "text/x-python",
   "name": "python",
   "nbconvert_exporter": "python",
   "pygments_lexer": "ipython3",
   "version": "3.8.13"
  },
  "orig_nbformat": 4,
  "vscode": {
   "interpreter": {
    "hash": "f4d00d012c3f6cb808c7b376159fb6ceeb1bfa5e0cf9d40e6adc65c90ff44473"
   }
  }
 },
 "nbformat": 4,
 "nbformat_minor": 2
}
